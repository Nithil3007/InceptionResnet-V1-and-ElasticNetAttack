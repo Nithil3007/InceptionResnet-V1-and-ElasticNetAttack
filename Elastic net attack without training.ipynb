{
  "cells": [
    {
      "cell_type": "markdown",
      "metadata": {
        "id": "view-in-github",
        "colab_type": "text"
      },
      "source": [
        "<a href=\"https://colab.research.google.com/github/Nithil3007/InceptionResnet-V1-and-ElasticNetAttack/blob/main/Elastic%20net%20attack%20without%20training.ipynb\" target=\"_parent\"><img src=\"https://colab.research.google.com/assets/colab-badge.svg\" alt=\"Open In Colab\"/></a>"
      ]
    },
    {
      "cell_type": "code",
      "execution_count": null,
      "metadata": {
        "id": "TxijKeuZ9u80",
        "colab": {
          "base_uri": "https://localhost:8080/"
        },
        "outputId": "31f37f98-07b3-443f-bc30-e4c7702f3372"
      },
      "outputs": [
        {
          "output_type": "stream",
          "name": "stdout",
          "text": [
            "Looking in indexes: https://pypi.org/simple, https://us-python.pkg.dev/colab-wheels/public/simple/\n",
            "Collecting facenet-pytorch\n",
            "  Downloading facenet_pytorch-2.5.2-py3-none-any.whl (1.9 MB)\n",
            "\u001b[K     |████████████████████████████████| 1.9 MB 27.7 MB/s \n",
            "\u001b[?25hRequirement already satisfied: pillow in /usr/local/lib/python3.7/dist-packages (from facenet-pytorch) (7.1.2)\n",
            "Requirement already satisfied: torchvision in /usr/local/lib/python3.7/dist-packages (from facenet-pytorch) (0.13.1+cu113)\n",
            "Requirement already satisfied: numpy in /usr/local/lib/python3.7/dist-packages (from facenet-pytorch) (1.21.6)\n",
            "Requirement already satisfied: requests in /usr/local/lib/python3.7/dist-packages (from facenet-pytorch) (2.23.0)\n",
            "Requirement already satisfied: chardet<4,>=3.0.2 in /usr/local/lib/python3.7/dist-packages (from requests->facenet-pytorch) (3.0.4)\n",
            "Requirement already satisfied: urllib3!=1.25.0,!=1.25.1,<1.26,>=1.21.1 in /usr/local/lib/python3.7/dist-packages (from requests->facenet-pytorch) (1.24.3)\n",
            "Requirement already satisfied: idna<3,>=2.5 in /usr/local/lib/python3.7/dist-packages (from requests->facenet-pytorch) (2.10)\n",
            "Requirement already satisfied: certifi>=2017.4.17 in /usr/local/lib/python3.7/dist-packages (from requests->facenet-pytorch) (2022.6.15)\n",
            "Requirement already satisfied: typing-extensions in /usr/local/lib/python3.7/dist-packages (from torchvision->facenet-pytorch) (4.1.1)\n",
            "Requirement already satisfied: torch==1.12.1 in /usr/local/lib/python3.7/dist-packages (from torchvision->facenet-pytorch) (1.12.1+cu113)\n",
            "Installing collected packages: facenet-pytorch\n",
            "Successfully installed facenet-pytorch-2.5.2\n"
          ]
        }
      ],
      "source": [
        "pip install facenet-pytorch"
      ]
    },
    {
      "cell_type": "code",
      "execution_count": null,
      "metadata": {
        "id": "ph782W_yxePY",
        "colab": {
          "base_uri": "https://localhost:8080/"
        },
        "outputId": "30bc627a-fdad-4daa-f312-110c7a5cd670"
      },
      "outputs": [
        {
          "output_type": "stream",
          "name": "stdout",
          "text": [
            "Looking in indexes: https://pypi.org/simple, https://us-python.pkg.dev/colab-wheels/public/simple/\n",
            "Collecting git+https://github.com/CNOCycle/cleverhans.git@feature/tf2.x\n",
            "  Cloning https://github.com/CNOCycle/cleverhans.git (to revision feature/tf2.x) to /tmp/pip-req-build-nnhz_51j\n",
            "  Running command git clone -q https://github.com/CNOCycle/cleverhans.git /tmp/pip-req-build-nnhz_51j\n",
            "  Running command git checkout -b feature/tf2.x --track origin/feature/tf2.x\n",
            "  Switched to a new branch 'feature/tf2.x'\n",
            "  Branch 'feature/tf2.x' set up to track remote branch 'feature/tf2.x' from 'origin'.\n",
            "Collecting nose\n",
            "  Downloading nose-1.3.7-py3-none-any.whl (154 kB)\n",
            "\u001b[K     |████████████████████████████████| 154 kB 24.7 MB/s \n",
            "\u001b[?25hCollecting pycodestyle\n",
            "  Downloading pycodestyle-2.9.1-py2.py3-none-any.whl (41 kB)\n",
            "\u001b[K     |████████████████████████████████| 41 kB 479 kB/s \n",
            "\u001b[?25hRequirement already satisfied: scipy in /usr/local/lib/python3.7/dist-packages (from cleverhans==3.0.1) (1.7.3)\n",
            "Requirement already satisfied: matplotlib in /usr/local/lib/python3.7/dist-packages (from cleverhans==3.0.1) (3.2.2)\n",
            "Collecting mnist~=0.2\n",
            "  Downloading mnist-0.2.2-py2.py3-none-any.whl (3.5 kB)\n",
            "Requirement already satisfied: numpy in /usr/local/lib/python3.7/dist-packages (from cleverhans==3.0.1) (1.21.6)\n",
            "Requirement already satisfied: tensorflow-probability in /usr/local/lib/python3.7/dist-packages (from cleverhans==3.0.1) (0.16.0)\n",
            "Requirement already satisfied: joblib in /usr/local/lib/python3.7/dist-packages (from cleverhans==3.0.1) (1.1.0)\n",
            "Requirement already satisfied: cycler>=0.10 in /usr/local/lib/python3.7/dist-packages (from matplotlib->cleverhans==3.0.1) (0.11.0)\n",
            "Requirement already satisfied: pyparsing!=2.0.4,!=2.1.2,!=2.1.6,>=2.0.1 in /usr/local/lib/python3.7/dist-packages (from matplotlib->cleverhans==3.0.1) (3.0.9)\n",
            "Requirement already satisfied: python-dateutil>=2.1 in /usr/local/lib/python3.7/dist-packages (from matplotlib->cleverhans==3.0.1) (2.8.2)\n",
            "Requirement already satisfied: kiwisolver>=1.0.1 in /usr/local/lib/python3.7/dist-packages (from matplotlib->cleverhans==3.0.1) (1.4.4)\n",
            "Requirement already satisfied: typing-extensions in /usr/local/lib/python3.7/dist-packages (from kiwisolver>=1.0.1->matplotlib->cleverhans==3.0.1) (4.1.1)\n",
            "Requirement already satisfied: six>=1.5 in /usr/local/lib/python3.7/dist-packages (from python-dateutil>=2.1->matplotlib->cleverhans==3.0.1) (1.15.0)\n",
            "Requirement already satisfied: gast>=0.3.2 in /usr/local/lib/python3.7/dist-packages (from tensorflow-probability->cleverhans==3.0.1) (0.5.3)\n",
            "Requirement already satisfied: cloudpickle>=1.3 in /usr/local/lib/python3.7/dist-packages (from tensorflow-probability->cleverhans==3.0.1) (1.5.0)\n",
            "Requirement already satisfied: decorator in /usr/local/lib/python3.7/dist-packages (from tensorflow-probability->cleverhans==3.0.1) (4.4.2)\n",
            "Requirement already satisfied: absl-py in /usr/local/lib/python3.7/dist-packages (from tensorflow-probability->cleverhans==3.0.1) (1.2.0)\n",
            "Requirement already satisfied: dm-tree in /usr/local/lib/python3.7/dist-packages (from tensorflow-probability->cleverhans==3.0.1) (0.1.7)\n",
            "Building wheels for collected packages: cleverhans\n",
            "  Building wheel for cleverhans (setup.py) ... \u001b[?25l\u001b[?25hdone\n",
            "  Created wheel for cleverhans: filename=cleverhans-3.0.1-py3-none-any.whl size=254394 sha256=2225ca8250bdf3357baf5000c36b6a84215b55b5bf4b719e5657087de854fe7e\n",
            "  Stored in directory: /tmp/pip-ephem-wheel-cache-nfexi0q0/wheels/7b/f7/6b/d754a65b70ab265387116e0a3b9c7bdb7adedc4e7afd04815f\n",
            "Successfully built cleverhans\n",
            "Installing collected packages: pycodestyle, nose, mnist, cleverhans\n",
            "Successfully installed cleverhans-3.0.1 mnist-0.2.2 nose-1.3.7 pycodestyle-2.9.1\n"
          ]
        }
      ],
      "source": [
        "pip install git+https://github.com/CNOCycle/cleverhans.git@feature/tf2.x"
      ]
    },
    {
      "cell_type": "code",
      "execution_count": null,
      "metadata": {
        "id": "s6IdVfNkkvnn"
      },
      "outputs": [],
      "source": [
        "import tensorflow.compat.v1 as tf"
      ]
    },
    {
      "cell_type": "code",
      "execution_count": null,
      "metadata": {
        "id": "FOJuHtWq2Wu_",
        "colab": {
          "base_uri": "https://localhost:8080/"
        },
        "outputId": "90aa9e44-a88e-4ee2-c53d-91638880557c"
      },
      "outputs": [
        {
          "output_type": "stream",
          "name": "stdout",
          "text": [
            "Using CUDA\n"
          ]
        }
      ],
      "source": [
        "from __future__ import print_function, division\n",
        "\n",
        "import torch\n",
        "import torch.nn as nn\n",
        "import torch.optim as optim\n",
        "from torch.optim import lr_scheduler\n",
        "from torch.autograd import Variable\n",
        "import numpy as np\n",
        "import torchvision\n",
        "from torchvision import datasets, models, transforms\n",
        "import matplotlib.pyplot as plt\n",
        "import time\n",
        "import os\n",
        "import copy\n",
        "import cleverhans\n",
        "\n",
        "plt.ion()  \n",
        "\n",
        "use_gpu = torch.cuda.is_available()\n",
        "if use_gpu:\n",
        "    print(\"Using CUDA\")"
      ]
    },
    {
      "cell_type": "code",
      "execution_count": null,
      "metadata": {
        "id": "vYdIF2Zi7msc",
        "colab": {
          "base_uri": "https://localhost:8080/"
        },
        "outputId": "c1a9a86c-f5d3-4249-bdd0-dc338b06de33"
      },
      "outputs": [
        {
          "output_type": "stream",
          "name": "stdout",
          "text": [
            "Mounted at /content/drive\n"
          ]
        }
      ],
      "source": [
        "from google.colab import drive\n",
        "drive.mount('/content/drive')"
      ]
    },
    {
      "cell_type": "code",
      "execution_count": null,
      "metadata": {
        "id": "1StMegFPL7eP"
      },
      "outputs": [],
      "source": [
        "INF = float(\"inf\")"
      ]
    },
    {
      "cell_type": "code",
      "execution_count": null,
      "metadata": {
        "id": "FTT75-gzLttQ"
      },
      "outputs": [],
      "source": [
        "def elastic_net(\n",
        "    model_fn,\n",
        "    x,\n",
        "    n_classes,\n",
        "    y=None,\n",
        "    targeted=False,\n",
        "    lr=5e-3,\n",
        "    confidence=0,\n",
        "    clip_min=0,\n",
        "    clip_max=1,\n",
        "    initial_const=1e-2,\n",
        "    binary_search_steps=5,\n",
        "    max_iterations=10,\n",
        "):\n",
        "\n",
        "    def compare(pred, label, is_logits=False):\n",
        "        # Convert logits to predicted class if necessary\n",
        "        if is_logits:\n",
        "            pred_copy = pred.clone().detach()\n",
        "            pred_copy[label] += -confidence if targeted else confidence\n",
        "            pred = torch.argmax(pred_copy)\n",
        "\n",
        "        return pred == label if targeted else pred != label\n",
        "\n",
        "    if y is None:\n",
        "        # Using model predictions as ground truth to avoid label leaking\n",
        "        pred = model_fn(x)\n",
        "        y = torch.argmax(pred, 1)\n",
        "\n",
        "    # Initialize some values needed for binary search on const\n",
        "    lower_bound = [0.0] * len(x)\n",
        "    upper_bound = [1e10] * len(x)\n",
        "    const = x.new_ones(len(x), 1) * initial_const\n",
        "\n",
        "    o_bestl2 = [INF] * len(x)\n",
        "    o_bestscore = [-1.0] * len(x)\n",
        "    x = torch.clamp(x, clip_min, clip_max)\n",
        "    ox = x.clone().detach()  # save the original x\n",
        "    o_bestattack = x.clone().detach()\n",
        "\n",
        "    # Map images into the tanh-space\n",
        "    x = (x - clip_min) / (clip_max - clip_min)\n",
        "    x = torch.clamp(x, 0, 1)\n",
        "    x = x * 2 - 1\n",
        "    x = torch.arctanh(x * 0.999999)\n",
        "\n",
        "    # Prepare some variables\n",
        "    modifier = torch.zeros_like(x, requires_grad=True)\n",
        "    y_onehot = torch.nn.functional.one_hot(y, n_classes).to(torch.float)\n",
        "\n",
        "    # Define loss functions and optimizer\n",
        "    f_fn = lambda real, other, targeted: torch.max(\n",
        "        ((other - real) if targeted else (real - other)) + confidence,\n",
        "        torch.tensor(0.0).to(real.device),\n",
        "    )\n",
        "    l2dist_fn = lambda x, y: torch.pow(x - y, 2).sum(list(range(len(x.size())))[1:])\n",
        "    optimizer = torch.optim.Adam([modifier], lr=lr)\n",
        "\n",
        "    # Outer loop performing binary search on const\n",
        "    for outer_step in range(binary_search_steps):\n",
        "        # Initialize some values needed for the inner loop\n",
        "        bestl2 = [INF] * len(x)\n",
        "        bestscore = [-1.0] * len(x)\n",
        "\n",
        "        # Inner loop performing attack iterations\n",
        "        for i in range(max_iterations):\n",
        "            # One attack step\n",
        "            new_x = (torch.tanh(modifier + x) + 1) / 2\n",
        "            new_x = new_x * (clip_max - clip_min) + clip_min\n",
        "            logits = model_fn(new_x)\n",
        "\n",
        "            real = torch.sum(y_onehot * logits, 1)\n",
        "            other, _ = torch.max((1 - y_onehot) * logits - y_onehot * 1e4, 1)\n",
        "\n",
        "            optimizer.zero_grad()\n",
        "            f = f_fn(real, other, targeted)\n",
        "            l2 = l2dist_fn(new_x, ox)\n",
        "            loss = (const * f + l2).sum()\n",
        "            loss.backward()\n",
        "            optimizer.step()\n",
        "\n",
        "            # Update best results\n",
        "            for n, (l2_n, logits_n, new_x_n) in enumerate(zip(l2, logits, new_x)):\n",
        "                y_n = y[n]\n",
        "                succeeded = compare(logits_n, y_n, is_logits=True)\n",
        "                if l2_n < o_bestl2[n] and succeeded:\n",
        "                    pred_n = torch.argmax(logits_n)\n",
        "                    o_bestl2[n] = l2_n\n",
        "                    o_bestscore[n] = pred_n\n",
        "                    o_bestattack[n] = new_x_n\n",
        "                    # l2_n < o_bestl2[n] implies l2_n < bestl2[n] so we modify inner loop variables too\n",
        "                    bestl2[n] = l2_n\n",
        "                    bestscore[n] = pred_n\n",
        "                elif l2_n < bestl2[n] and succeeded:\n",
        "                    bestl2[n] = l2_n\n",
        "                    bestscore[n] = torch.argmax(logits_n)\n",
        "\n",
        "        # Binary search step\n",
        "        for n in range(len(x)):\n",
        "            y_n = y[n]\n",
        "\n",
        "            if compare(bestscore[n], y_n) and bestscore[n] != -1:\n",
        "                # Success, divide const by two\n",
        "                upper_bound[n] = min(upper_bound[n], const[n])\n",
        "                if upper_bound[n] < 1e9:\n",
        "                    const[n] = (lower_bound[n] + upper_bound[n]) / 2\n",
        "            else:\n",
        "                # Failure, either multiply by 10 if no solution found yet\n",
        "                # or do binary search with the known upper bound\n",
        "                lower_bound[n] = max(lower_bound[n], const[n])\n",
        "                if upper_bound[n] < 1e9:\n",
        "                    const[n] = (lower_bound[n] + upper_bound[n]) / 2\n",
        "                else:\n",
        "                    const[n] *= 10\n",
        "\n",
        "    return o_bestattack.detach()"
      ]
    },
    {
      "cell_type": "code",
      "execution_count": null,
      "metadata": {
        "id": "9GtPAkn-716S",
        "colab": {
          "base_uri": "https://localhost:8080/"
        },
        "outputId": "f2beba86-0d97-4725-9c27-eabad727aa03"
      },
      "outputs": [
        {
          "output_type": "stream",
          "name": "stdout",
          "text": [
            "['TEST3', 'TRAIN2', 'TRAIN', 'TEST', 'TEST2', 'Test_temp', 'Train_temp', 'InceptionResnetV1_TensorFlow_model', 'VALIDATION', 'InceptonResnetV1_Pytorch', 'model.txt']\n"
          ]
        }
      ],
      "source": [
        "path='/content/drive/MyDrive/College/intern/TASK3/RETINAL DATASET'\n",
        "dir_list = os.listdir(path)\n",
        "print(dir_list)"
      ]
    },
    {
      "cell_type": "code",
      "execution_count": null,
      "metadata": {
        "id": "EIIUDzAiI-1F",
        "colab": {
          "base_uri": "https://localhost:8080/"
        },
        "outputId": "417890fa-3f89-4e1e-d128-9ea18f4cce47"
      },
      "outputs": [
        {
          "output_type": "stream",
          "name": "stdout",
          "text": [
            "Base directory -->  ['TEST3', 'TRAIN2', 'TRAIN', 'TEST', 'TEST2', 'Test_temp', 'Train_temp', 'InceptionResnetV1_TensorFlow_model', 'VALIDATION', 'InceptonResnetV1_Pytorch', 'model.txt']\n"
          ]
        }
      ],
      "source": [
        "base_dir = os.path.join(\"/content/drive/MyDrive/College/intern/TASK3/RETINAL DATASET/\")\n",
        "print('Base directory --> ', os.listdir(base_dir))"
      ]
    },
    {
      "cell_type": "code",
      "execution_count": null,
      "metadata": {
        "id": "SB7lwQdN79JC",
        "colab": {
          "base_uri": "https://localhost:8080/"
        },
        "outputId": "d129db8a-b3e4-4fe7-edf5-5e6efc1b0b8c"
      },
      "outputs": [
        {
          "output_type": "stream",
          "name": "stdout",
          "text": [
            "Train Directory -->  ['CNV', 'NORMAL', 'train_images.csv', 'train_images.gsheet']\n",
            "Test Directory -->  ['NORMAL', 'CNV']\n",
            "Test2 Directory -->  ['CNV_TEST_2', 'NORMAL_TEST_2']\n"
          ]
        }
      ],
      "source": [
        "train_dir = os.path.join(base_dir + \"TRAIN/\")\n",
        "print(\"Train Directory --> \", os.listdir(train_dir))\n",
        "\n",
        "validation_dir = os.path.join(base_dir + \"VALIDATION/\")\n",
        "print(\"Test Directory --> \", os.listdir(validation_dir))\n",
        "\n",
        "test_dir = os.path.join(base_dir + \"TEST2/\")\n",
        "print(\"Test2 Directory --> \", os.listdir(test_dir))"
      ]
    },
    {
      "cell_type": "code",
      "execution_count": null,
      "metadata": {
        "id": "NmVYoB7f8SWI",
        "colab": {
          "base_uri": "https://localhost:8080/"
        },
        "outputId": "c79a2452-1ea8-4731-fa8a-46f505f7b950"
      },
      "outputs": [
        {
          "output_type": "stream",
          "name": "stdout",
          "text": [
            "Loaded 15000 images under TRAIN\n",
            "Loaded 1000 images under VALIDATION\n",
            "Loaded 4000 images under TEST2\n",
            "Classes: \n",
            "['CNV', 'NORMAL']\n"
          ]
        }
      ],
      "source": [
        "data_dir = base_dir\n",
        "TRAIN = 'TRAIN'\n",
        "VAL = 'VALIDATION'\n",
        "TEST = 'TEST2'\n",
        "\n",
        "# The pretrained model takes 224x224 images as input, so we resize all of them\n",
        "data_transforms = {\n",
        "    TRAIN: transforms.Compose([\n",
        "        # Data augmentation is a good practice for the train set\n",
        "        # Here, we randomly crop the image to 224x224 and\n",
        "        # randomly flip it horizontally. \n",
        "        transforms.RandomResizedCrop(224),\n",
        "        transforms.RandomHorizontalFlip(),\n",
        "        transforms.ToTensor(),\n",
        "    ]),\n",
        "    VAL: transforms.Compose([\n",
        "        transforms.Resize(256),\n",
        "        transforms.CenterCrop(224),\n",
        "        transforms.ToTensor(),\n",
        "    ]),\n",
        "    TEST: transforms.Compose([\n",
        "        transforms.Resize(256),\n",
        "        transforms.CenterCrop(224),\n",
        "        transforms.ToTensor(),\n",
        "    ])\n",
        "}\n",
        "\n",
        "image_datasets = {\n",
        "    x: datasets.ImageFolder(\n",
        "        os.path.join(data_dir, x), \n",
        "        transform=data_transforms[x]\n",
        "    )\n",
        "    for x in [TRAIN, VAL, TEST]\n",
        "}\n",
        "\n",
        "dataloaders = {\n",
        "    x: torch.utils.data.DataLoader(\n",
        "        image_datasets[x], batch_size=8,\n",
        "        shuffle=True, num_workers=2\n",
        "    )\n",
        "    for x in [TRAIN, VAL, TEST]\n",
        "}\n",
        "\n",
        "dataset_sizes = {x: len(image_datasets[x]) for x in [TRAIN, VAL, TEST]}\n",
        "\n",
        "for x in [TRAIN, VAL, TEST]:\n",
        "    print(\"Loaded {} images under {}\".format(dataset_sizes[x], x))\n",
        "    \n",
        "print(\"Classes: \")\n",
        "class_names = image_datasets[TRAIN].classes\n",
        "print(image_datasets[TRAIN].classes)"
      ]
    },
    {
      "cell_type": "code",
      "execution_count": null,
      "metadata": {
        "id": "qvVnKNxT9yj-",
        "colab": {
          "base_uri": "https://localhost:8080/",
          "height": 49,
          "referenced_widgets": [
            "e65f562920be4e2c88761e61766f14c8",
            "23569cb2c7b64bccbcc2f674cdf8c55c",
            "c1ce04338b644f48859ac7a796088c3c",
            "39f280f9d0ba4ae5bc220ccc17d3fa0c",
            "f192d3fb046448d7989545f9246beafe",
            "22512142837a4b219c939aa3be0cb616",
            "373a516cb7494f3da277743a7750689a",
            "4f836b5cb19647c1b70a3ea06cbef533",
            "0cb08374c0144dd59c7de3e7d65c22c1",
            "950047abbe954608abbd6c953224b695",
            "e0eff27326db464dab790960380141a3"
          ]
        },
        "outputId": "6c2ee79f-cff6-4744-d2fd-69572088fdd4"
      },
      "outputs": [
        {
          "output_type": "display_data",
          "data": {
            "text/plain": [
              "  0%|          | 0.00/107M [00:00<?, ?B/s]"
            ],
            "application/vnd.jupyter.widget-view+json": {
              "version_major": 2,
              "version_minor": 0,
              "model_id": "e65f562920be4e2c88761e61766f14c8"
            }
          },
          "metadata": {}
        }
      ],
      "source": [
        "from facenet_pytorch import InceptionResnetV1\n",
        "model = InceptionResnetV1(pretrained='vggface2',classify=True,num_classes=2).eval()\n",
        "model=model.cuda()"
      ]
    },
    {
      "cell_type": "code",
      "execution_count": null,
      "metadata": {
        "id": "OiZ5nSpJ0m3d"
      },
      "outputs": [],
      "source": [
        "#UNFREEZES TRAINING FOR THE FIRST 9 LAYERS OF THE MODEL, FREEZES TRINING FOR THE REST\n",
        "for param in model.parameters():\n",
        "          param.requires_grad = True\n",
        "#print(newmodel.children)\n",
        "ct = 0\n",
        "for child in model.children():\n",
        "  ct += 1\n",
        "  if ct < 9:\n",
        "     for param in child.parameters():\n",
        "          param.requires_grad = False"
      ]
    },
    {
      "cell_type": "code",
      "execution_count": null,
      "metadata": {
        "id": "JOkXGpLZQXgL"
      },
      "outputs": [],
      "source": [
        "#summary(model,(3, 224, 224))"
      ]
    },
    {
      "cell_type": "code",
      "execution_count": null,
      "metadata": {
        "id": "fMVgB22r7Dk1"
      },
      "outputs": [],
      "source": [
        "if use_gpu:\n",
        "    model.cuda() #.cuda() will move everything to the GPU side\n",
        "    \n",
        "criterion = nn.CrossEntropyLoss()\n",
        "\n",
        "optimizer_ft = optim.SGD(model.parameters(), lr=0.1, momentum=0.9)"
      ]
    },
    {
      "cell_type": "code",
      "source": [
        "def advTrain(torch_model, train_loader, test_loader,\n",
        "        nb_epochs=2, batch_size=8, train_end=-1, test_end=-1, learning_rate=0.0001, optimizer=None):\n",
        "\n",
        "    train_loss = []\n",
        "    total = 0\n",
        "    correct = 0\n",
        "    step = 0\n",
        "    train_batches = len(train_loader)\n",
        "    test_batches = len(test_loader)\n",
        "    for epoch in range(nb_epochs):\n",
        "        print(\"Epoch {}/{}\".format(epoch, nb_epochs))\n",
        "        print('-' * 10)\n",
        "        \n",
        "        loss_train = 0\n",
        "        acc_train = 0\n",
        "        loss_train_adv = 0\n",
        "        acc_train_adv = 0\n",
        "        \n",
        "        loss_test = 0\n",
        "        acc_test = 0\n",
        "        loss_test_adv = 0\n",
        "        acc_test_adv = 0\n",
        "\n",
        "        model.train(True)\n",
        "        \n",
        "        for i, data in enumerate(dataloaders[TRAIN]):\n",
        "            if i % 100 == 0:\n",
        "                print(\"\\rTraining batch {}/{}\".format(i, train_batches / 2), end='', flush=True)\n",
        "                \n",
        "            # Use half training dataset\n",
        "            if i >= train_batches / 2:\n",
        "                break\n",
        "                \n",
        "            inputs, labels = data\n",
        "            inputs, labels = Variable(inputs.cuda()), Variable(labels.cuda())\n",
        "            optimizer.zero_grad()\n",
        "            \n",
        "            outputs = model(inputs)\n",
        "            \n",
        "            _, preds = torch.max(outputs.data, 1)\n",
        "            loss = criterion(outputs, labels)\n",
        "            \n",
        "            loss.backward()\n",
        "            optimizer.step()\n",
        "            \n",
        "            loss_train += loss.data\n",
        "            acc_train += torch.sum(preds == labels.data)\n",
        "            torch.cuda.empty_cache()\n",
        "\n",
        "        model.train(False)\n",
        "        model.eval()\n",
        "\n",
        "        for i, data in enumerate(dataloaders[TEST]):\n",
        "              if i % 100 == 0:\n",
        "                  print(\"\\rTesting batch {}/{}\".format(i, test_batches / 2), end='', flush=True)\n",
        "                \n",
        "              # Use half training dataset\n",
        "              if i >= test_batches / 2:\n",
        "                  break\n",
        "\n",
        "              inputs, labels = data\n",
        "              inputs, labels = Variable(inputs.cuda()), Variable(labels.cuda())\n",
        "              inputs = elastic_net(torch_model,inputs,n_classes=2,y=labels,clip_min=0.,clip_max=1.)\n",
        "              optimizer.zero_grad()\n",
        "            \n",
        "              outputs = model(inputs)\n",
        "            \n",
        "              _, preds = torch.max(outputs.data, 1)\n",
        "              loss = criterion(outputs, labels)\n",
        "            \n",
        "              loss.backward()\n",
        "              optimizer.step()\n",
        "            \n",
        "              loss_test_adv += loss.data\n",
        "              acc_test_adv += torch.sum(preds == labels.data)\n",
        "              torch.cuda.empty_cache()\n",
        "\n",
        "        avg_acc_train = acc_train * 2 / dataset_sizes[TRAIN]\n",
        "        print(\"\\nEpoch {} result: \".format(epoch))\n",
        "        print()\n",
        "        print(\"Training acc : {:.4f}\".format(avg_acc_train))\n",
        "        print()\n",
        "\n",
        "        avg_acc_test_adv = acc_test_adv * 2 / dataset_sizes[TEST]\n",
        "        print(\"\\nEpoch {} result: \".format(epoch))\n",
        "        print()\n",
        "        print(\"Adversarial Testing acc : {:.4f}\".format(avg_acc_test_adv))\n",
        "        print('-' * 10)"
      ],
      "metadata": {
        "id": "kjDXS6Wg1Sfw"
      },
      "execution_count": null,
      "outputs": []
    },
    {
      "cell_type": "code",
      "execution_count": null,
      "metadata": {
        "id": "ic6egUDxxh2i",
        "colab": {
          "base_uri": "https://localhost:8080/"
        },
        "outputId": "36ae9714-e5cc-4ff3-98de-3fe86d54d171"
      },
      "outputs": [
        {
          "output_type": "stream",
          "name": "stdout",
          "text": [
            "Epoch 0/2\n",
            "----------\n",
            "Testing batch 0/62.5\n",
            "Epoch 0 result: \n",
            "\n",
            "Training acc : 0.7113\n",
            "\n",
            "\n",
            "Epoch 0 result: \n",
            "\n",
            "Adversarial Testing acc : 0.0755\n",
            "----------\n",
            "Epoch 1/2\n",
            "----------\n",
            "Testing batch 0/62.5\n",
            "Epoch 1 result: \n",
            "\n",
            "Training acc : 0.8249\n",
            "\n",
            "\n",
            "Epoch 1 result: \n",
            "\n",
            "Adversarial Testing acc : 0.0705\n",
            "----------\n"
          ]
        }
      ],
      "source": [
        "advtrainedmodel = advTrain(model, dataloaders[TRAIN], dataloaders[VAL],\n",
        "        nb_epochs=2, batch_size=8, train_end=-1, test_end=-1, learning_rate=0.0001,optimizer=optimizer_ft)"
      ]
    }
  ],
  "metadata": {
    "accelerator": "GPU",
    "colab": {
      "provenance": [],
      "include_colab_link": true
    },
    "gpuClass": "standard",
    "kernelspec": {
      "display_name": "Python 3",
      "name": "python3"
    },
    "language_info": {
      "name": "python"
    },
    "widgets": {
      "application/vnd.jupyter.widget-state+json": {
        "e65f562920be4e2c88761e61766f14c8": {
          "model_module": "@jupyter-widgets/controls",
          "model_name": "HBoxModel",
          "model_module_version": "1.5.0",
          "state": {
            "_dom_classes": [],
            "_model_module": "@jupyter-widgets/controls",
            "_model_module_version": "1.5.0",
            "_model_name": "HBoxModel",
            "_view_count": null,
            "_view_module": "@jupyter-widgets/controls",
            "_view_module_version": "1.5.0",
            "_view_name": "HBoxView",
            "box_style": "",
            "children": [
              "IPY_MODEL_23569cb2c7b64bccbcc2f674cdf8c55c",
              "IPY_MODEL_c1ce04338b644f48859ac7a796088c3c",
              "IPY_MODEL_39f280f9d0ba4ae5bc220ccc17d3fa0c"
            ],
            "layout": "IPY_MODEL_f192d3fb046448d7989545f9246beafe"
          }
        },
        "23569cb2c7b64bccbcc2f674cdf8c55c": {
          "model_module": "@jupyter-widgets/controls",
          "model_name": "HTMLModel",
          "model_module_version": "1.5.0",
          "state": {
            "_dom_classes": [],
            "_model_module": "@jupyter-widgets/controls",
            "_model_module_version": "1.5.0",
            "_model_name": "HTMLModel",
            "_view_count": null,
            "_view_module": "@jupyter-widgets/controls",
            "_view_module_version": "1.5.0",
            "_view_name": "HTMLView",
            "description": "",
            "description_tooltip": null,
            "layout": "IPY_MODEL_22512142837a4b219c939aa3be0cb616",
            "placeholder": "​",
            "style": "IPY_MODEL_373a516cb7494f3da277743a7750689a",
            "value": "100%"
          }
        },
        "c1ce04338b644f48859ac7a796088c3c": {
          "model_module": "@jupyter-widgets/controls",
          "model_name": "FloatProgressModel",
          "model_module_version": "1.5.0",
          "state": {
            "_dom_classes": [],
            "_model_module": "@jupyter-widgets/controls",
            "_model_module_version": "1.5.0",
            "_model_name": "FloatProgressModel",
            "_view_count": null,
            "_view_module": "@jupyter-widgets/controls",
            "_view_module_version": "1.5.0",
            "_view_name": "ProgressView",
            "bar_style": "success",
            "description": "",
            "description_tooltip": null,
            "layout": "IPY_MODEL_4f836b5cb19647c1b70a3ea06cbef533",
            "max": 111898327,
            "min": 0,
            "orientation": "horizontal",
            "style": "IPY_MODEL_0cb08374c0144dd59c7de3e7d65c22c1",
            "value": 111898327
          }
        },
        "39f280f9d0ba4ae5bc220ccc17d3fa0c": {
          "model_module": "@jupyter-widgets/controls",
          "model_name": "HTMLModel",
          "model_module_version": "1.5.0",
          "state": {
            "_dom_classes": [],
            "_model_module": "@jupyter-widgets/controls",
            "_model_module_version": "1.5.0",
            "_model_name": "HTMLModel",
            "_view_count": null,
            "_view_module": "@jupyter-widgets/controls",
            "_view_module_version": "1.5.0",
            "_view_name": "HTMLView",
            "description": "",
            "description_tooltip": null,
            "layout": "IPY_MODEL_950047abbe954608abbd6c953224b695",
            "placeholder": "​",
            "style": "IPY_MODEL_e0eff27326db464dab790960380141a3",
            "value": " 107M/107M [00:00&lt;00:00, 265MB/s]"
          }
        },
        "f192d3fb046448d7989545f9246beafe": {
          "model_module": "@jupyter-widgets/base",
          "model_name": "LayoutModel",
          "model_module_version": "1.2.0",
          "state": {
            "_model_module": "@jupyter-widgets/base",
            "_model_module_version": "1.2.0",
            "_model_name": "LayoutModel",
            "_view_count": null,
            "_view_module": "@jupyter-widgets/base",
            "_view_module_version": "1.2.0",
            "_view_name": "LayoutView",
            "align_content": null,
            "align_items": null,
            "align_self": null,
            "border": null,
            "bottom": null,
            "display": null,
            "flex": null,
            "flex_flow": null,
            "grid_area": null,
            "grid_auto_columns": null,
            "grid_auto_flow": null,
            "grid_auto_rows": null,
            "grid_column": null,
            "grid_gap": null,
            "grid_row": null,
            "grid_template_areas": null,
            "grid_template_columns": null,
            "grid_template_rows": null,
            "height": null,
            "justify_content": null,
            "justify_items": null,
            "left": null,
            "margin": null,
            "max_height": null,
            "max_width": null,
            "min_height": null,
            "min_width": null,
            "object_fit": null,
            "object_position": null,
            "order": null,
            "overflow": null,
            "overflow_x": null,
            "overflow_y": null,
            "padding": null,
            "right": null,
            "top": null,
            "visibility": null,
            "width": null
          }
        },
        "22512142837a4b219c939aa3be0cb616": {
          "model_module": "@jupyter-widgets/base",
          "model_name": "LayoutModel",
          "model_module_version": "1.2.0",
          "state": {
            "_model_module": "@jupyter-widgets/base",
            "_model_module_version": "1.2.0",
            "_model_name": "LayoutModel",
            "_view_count": null,
            "_view_module": "@jupyter-widgets/base",
            "_view_module_version": "1.2.0",
            "_view_name": "LayoutView",
            "align_content": null,
            "align_items": null,
            "align_self": null,
            "border": null,
            "bottom": null,
            "display": null,
            "flex": null,
            "flex_flow": null,
            "grid_area": null,
            "grid_auto_columns": null,
            "grid_auto_flow": null,
            "grid_auto_rows": null,
            "grid_column": null,
            "grid_gap": null,
            "grid_row": null,
            "grid_template_areas": null,
            "grid_template_columns": null,
            "grid_template_rows": null,
            "height": null,
            "justify_content": null,
            "justify_items": null,
            "left": null,
            "margin": null,
            "max_height": null,
            "max_width": null,
            "min_height": null,
            "min_width": null,
            "object_fit": null,
            "object_position": null,
            "order": null,
            "overflow": null,
            "overflow_x": null,
            "overflow_y": null,
            "padding": null,
            "right": null,
            "top": null,
            "visibility": null,
            "width": null
          }
        },
        "373a516cb7494f3da277743a7750689a": {
          "model_module": "@jupyter-widgets/controls",
          "model_name": "DescriptionStyleModel",
          "model_module_version": "1.5.0",
          "state": {
            "_model_module": "@jupyter-widgets/controls",
            "_model_module_version": "1.5.0",
            "_model_name": "DescriptionStyleModel",
            "_view_count": null,
            "_view_module": "@jupyter-widgets/base",
            "_view_module_version": "1.2.0",
            "_view_name": "StyleView",
            "description_width": ""
          }
        },
        "4f836b5cb19647c1b70a3ea06cbef533": {
          "model_module": "@jupyter-widgets/base",
          "model_name": "LayoutModel",
          "model_module_version": "1.2.0",
          "state": {
            "_model_module": "@jupyter-widgets/base",
            "_model_module_version": "1.2.0",
            "_model_name": "LayoutModel",
            "_view_count": null,
            "_view_module": "@jupyter-widgets/base",
            "_view_module_version": "1.2.0",
            "_view_name": "LayoutView",
            "align_content": null,
            "align_items": null,
            "align_self": null,
            "border": null,
            "bottom": null,
            "display": null,
            "flex": null,
            "flex_flow": null,
            "grid_area": null,
            "grid_auto_columns": null,
            "grid_auto_flow": null,
            "grid_auto_rows": null,
            "grid_column": null,
            "grid_gap": null,
            "grid_row": null,
            "grid_template_areas": null,
            "grid_template_columns": null,
            "grid_template_rows": null,
            "height": null,
            "justify_content": null,
            "justify_items": null,
            "left": null,
            "margin": null,
            "max_height": null,
            "max_width": null,
            "min_height": null,
            "min_width": null,
            "object_fit": null,
            "object_position": null,
            "order": null,
            "overflow": null,
            "overflow_x": null,
            "overflow_y": null,
            "padding": null,
            "right": null,
            "top": null,
            "visibility": null,
            "width": null
          }
        },
        "0cb08374c0144dd59c7de3e7d65c22c1": {
          "model_module": "@jupyter-widgets/controls",
          "model_name": "ProgressStyleModel",
          "model_module_version": "1.5.0",
          "state": {
            "_model_module": "@jupyter-widgets/controls",
            "_model_module_version": "1.5.0",
            "_model_name": "ProgressStyleModel",
            "_view_count": null,
            "_view_module": "@jupyter-widgets/base",
            "_view_module_version": "1.2.0",
            "_view_name": "StyleView",
            "bar_color": null,
            "description_width": ""
          }
        },
        "950047abbe954608abbd6c953224b695": {
          "model_module": "@jupyter-widgets/base",
          "model_name": "LayoutModel",
          "model_module_version": "1.2.0",
          "state": {
            "_model_module": "@jupyter-widgets/base",
            "_model_module_version": "1.2.0",
            "_model_name": "LayoutModel",
            "_view_count": null,
            "_view_module": "@jupyter-widgets/base",
            "_view_module_version": "1.2.0",
            "_view_name": "LayoutView",
            "align_content": null,
            "align_items": null,
            "align_self": null,
            "border": null,
            "bottom": null,
            "display": null,
            "flex": null,
            "flex_flow": null,
            "grid_area": null,
            "grid_auto_columns": null,
            "grid_auto_flow": null,
            "grid_auto_rows": null,
            "grid_column": null,
            "grid_gap": null,
            "grid_row": null,
            "grid_template_areas": null,
            "grid_template_columns": null,
            "grid_template_rows": null,
            "height": null,
            "justify_content": null,
            "justify_items": null,
            "left": null,
            "margin": null,
            "max_height": null,
            "max_width": null,
            "min_height": null,
            "min_width": null,
            "object_fit": null,
            "object_position": null,
            "order": null,
            "overflow": null,
            "overflow_x": null,
            "overflow_y": null,
            "padding": null,
            "right": null,
            "top": null,
            "visibility": null,
            "width": null
          }
        },
        "e0eff27326db464dab790960380141a3": {
          "model_module": "@jupyter-widgets/controls",
          "model_name": "DescriptionStyleModel",
          "model_module_version": "1.5.0",
          "state": {
            "_model_module": "@jupyter-widgets/controls",
            "_model_module_version": "1.5.0",
            "_model_name": "DescriptionStyleModel",
            "_view_count": null,
            "_view_module": "@jupyter-widgets/base",
            "_view_module_version": "1.2.0",
            "_view_name": "StyleView",
            "description_width": ""
          }
        }
      }
    }
  },
  "nbformat": 4,
  "nbformat_minor": 0
}