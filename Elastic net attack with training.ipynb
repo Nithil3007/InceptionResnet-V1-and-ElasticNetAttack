{
  "cells": [
    {
      "cell_type": "markdown",
      "metadata": {
        "id": "view-in-github",
        "colab_type": "text"
      },
      "source": [
        "<a href=\"https://colab.research.google.com/github/Nithil3007/InceptionResnet-V1-and-ElasticNetAttack/blob/main/Elastic%20net%20attack%20with%20training.ipynb\" target=\"_parent\"><img src=\"https://colab.research.google.com/assets/colab-badge.svg\" alt=\"Open In Colab\"/></a>"
      ]
    },
    {
      "cell_type": "code",
      "execution_count": null,
      "metadata": {
        "colab": {
          "base_uri": "https://localhost:8080/"
        },
        "id": "TxijKeuZ9u80",
        "outputId": "9a3691a1-2e45-40e2-de77-c6679c1a4cf7"
      },
      "outputs": [
        {
          "output_type": "stream",
          "name": "stdout",
          "text": [
            "Looking in indexes: https://pypi.org/simple, https://us-python.pkg.dev/colab-wheels/public/simple/\n",
            "Collecting facenet-pytorch\n",
            "  Downloading facenet_pytorch-2.5.2-py3-none-any.whl (1.9 MB)\n",
            "\u001b[K     |████████████████████████████████| 1.9 MB 30.8 MB/s \n",
            "\u001b[?25hRequirement already satisfied: requests in /usr/local/lib/python3.7/dist-packages (from facenet-pytorch) (2.23.0)\n",
            "Requirement already satisfied: numpy in /usr/local/lib/python3.7/dist-packages (from facenet-pytorch) (1.21.6)\n",
            "Requirement already satisfied: pillow in /usr/local/lib/python3.7/dist-packages (from facenet-pytorch) (7.1.2)\n",
            "Requirement already satisfied: torchvision in /usr/local/lib/python3.7/dist-packages (from facenet-pytorch) (0.13.1+cu113)\n",
            "Requirement already satisfied: certifi>=2017.4.17 in /usr/local/lib/python3.7/dist-packages (from requests->facenet-pytorch) (2022.6.15)\n",
            "Requirement already satisfied: urllib3!=1.25.0,!=1.25.1,<1.26,>=1.21.1 in /usr/local/lib/python3.7/dist-packages (from requests->facenet-pytorch) (1.24.3)\n",
            "Requirement already satisfied: chardet<4,>=3.0.2 in /usr/local/lib/python3.7/dist-packages (from requests->facenet-pytorch) (3.0.4)\n",
            "Requirement already satisfied: idna<3,>=2.5 in /usr/local/lib/python3.7/dist-packages (from requests->facenet-pytorch) (2.10)\n",
            "Requirement already satisfied: torch==1.12.1 in /usr/local/lib/python3.7/dist-packages (from torchvision->facenet-pytorch) (1.12.1+cu113)\n",
            "Requirement already satisfied: typing-extensions in /usr/local/lib/python3.7/dist-packages (from torchvision->facenet-pytorch) (4.1.1)\n",
            "Installing collected packages: facenet-pytorch\n",
            "Successfully installed facenet-pytorch-2.5.2\n"
          ]
        }
      ],
      "source": [
        "pip install facenet-pytorch"
      ]
    },
    {
      "cell_type": "code",
      "execution_count": null,
      "metadata": {
        "colab": {
          "base_uri": "https://localhost:8080/"
        },
        "id": "ph782W_yxePY",
        "outputId": "84f1ba59-ac42-4118-bb38-eb77c7f3f5ab"
      },
      "outputs": [
        {
          "output_type": "stream",
          "name": "stdout",
          "text": [
            "Looking in indexes: https://pypi.org/simple, https://us-python.pkg.dev/colab-wheels/public/simple/\n",
            "Collecting git+https://github.com/CNOCycle/cleverhans.git@feature/tf2.x\n",
            "  Cloning https://github.com/CNOCycle/cleverhans.git (to revision feature/tf2.x) to /tmp/pip-req-build-r9gcccfw\n",
            "  Running command git clone -q https://github.com/CNOCycle/cleverhans.git /tmp/pip-req-build-r9gcccfw\n",
            "  Running command git checkout -b feature/tf2.x --track origin/feature/tf2.x\n",
            "  Switched to a new branch 'feature/tf2.x'\n",
            "  Branch 'feature/tf2.x' set up to track remote branch 'feature/tf2.x' from 'origin'.\n",
            "Collecting nose\n",
            "  Downloading nose-1.3.7-py3-none-any.whl (154 kB)\n",
            "\u001b[K     |████████████████████████████████| 154 kB 19.6 MB/s \n",
            "\u001b[?25hCollecting pycodestyle\n",
            "  Downloading pycodestyle-2.9.1-py2.py3-none-any.whl (41 kB)\n",
            "\u001b[K     |████████████████████████████████| 41 kB 509 kB/s \n",
            "\u001b[?25hRequirement already satisfied: scipy in /usr/local/lib/python3.7/dist-packages (from cleverhans==3.0.1) (1.7.3)\n",
            "Requirement already satisfied: matplotlib in /usr/local/lib/python3.7/dist-packages (from cleverhans==3.0.1) (3.2.2)\n",
            "Collecting mnist~=0.2\n",
            "  Downloading mnist-0.2.2-py2.py3-none-any.whl (3.5 kB)\n",
            "Requirement already satisfied: numpy in /usr/local/lib/python3.7/dist-packages (from cleverhans==3.0.1) (1.21.6)\n",
            "Requirement already satisfied: tensorflow-probability in /usr/local/lib/python3.7/dist-packages (from cleverhans==3.0.1) (0.16.0)\n",
            "Requirement already satisfied: joblib in /usr/local/lib/python3.7/dist-packages (from cleverhans==3.0.1) (1.1.0)\n",
            "Requirement already satisfied: cycler>=0.10 in /usr/local/lib/python3.7/dist-packages (from matplotlib->cleverhans==3.0.1) (0.11.0)\n",
            "Requirement already satisfied: kiwisolver>=1.0.1 in /usr/local/lib/python3.7/dist-packages (from matplotlib->cleverhans==3.0.1) (1.4.4)\n",
            "Requirement already satisfied: pyparsing!=2.0.4,!=2.1.2,!=2.1.6,>=2.0.1 in /usr/local/lib/python3.7/dist-packages (from matplotlib->cleverhans==3.0.1) (3.0.9)\n",
            "Requirement already satisfied: python-dateutil>=2.1 in /usr/local/lib/python3.7/dist-packages (from matplotlib->cleverhans==3.0.1) (2.8.2)\n",
            "Requirement already satisfied: typing-extensions in /usr/local/lib/python3.7/dist-packages (from kiwisolver>=1.0.1->matplotlib->cleverhans==3.0.1) (4.1.1)\n",
            "Requirement already satisfied: six>=1.5 in /usr/local/lib/python3.7/dist-packages (from python-dateutil>=2.1->matplotlib->cleverhans==3.0.1) (1.15.0)\n",
            "Requirement already satisfied: dm-tree in /usr/local/lib/python3.7/dist-packages (from tensorflow-probability->cleverhans==3.0.1) (0.1.7)\n",
            "Requirement already satisfied: cloudpickle>=1.3 in /usr/local/lib/python3.7/dist-packages (from tensorflow-probability->cleverhans==3.0.1) (1.5.0)\n",
            "Requirement already satisfied: gast>=0.3.2 in /usr/local/lib/python3.7/dist-packages (from tensorflow-probability->cleverhans==3.0.1) (0.5.3)\n",
            "Requirement already satisfied: absl-py in /usr/local/lib/python3.7/dist-packages (from tensorflow-probability->cleverhans==3.0.1) (1.2.0)\n",
            "Requirement already satisfied: decorator in /usr/local/lib/python3.7/dist-packages (from tensorflow-probability->cleverhans==3.0.1) (4.4.2)\n",
            "Building wheels for collected packages: cleverhans\n",
            "  Building wheel for cleverhans (setup.py) ... \u001b[?25l\u001b[?25hdone\n",
            "  Created wheel for cleverhans: filename=cleverhans-3.0.1-py3-none-any.whl size=254394 sha256=d9ba409d8d85fc7c8ef0bc5042382920fc515b82c6b22ad3a4808cd555727940\n",
            "  Stored in directory: /tmp/pip-ephem-wheel-cache-3bvugs3r/wheels/7b/f7/6b/d754a65b70ab265387116e0a3b9c7bdb7adedc4e7afd04815f\n",
            "Successfully built cleverhans\n",
            "Installing collected packages: pycodestyle, nose, mnist, cleverhans\n",
            "Successfully installed cleverhans-3.0.1 mnist-0.2.2 nose-1.3.7 pycodestyle-2.9.1\n"
          ]
        }
      ],
      "source": [
        "pip install git+https://github.com/CNOCycle/cleverhans.git@feature/tf2.x"
      ]
    },
    {
      "cell_type": "code",
      "execution_count": null,
      "metadata": {
        "id": "s6IdVfNkkvnn"
      },
      "outputs": [],
      "source": [
        "import tensorflow.compat.v1 as tf"
      ]
    },
    {
      "cell_type": "code",
      "execution_count": null,
      "metadata": {
        "colab": {
          "base_uri": "https://localhost:8080/"
        },
        "id": "FOJuHtWq2Wu_",
        "outputId": "62523226-1700-4041-a56b-9f9f226a5a8c"
      },
      "outputs": [
        {
          "output_type": "stream",
          "name": "stdout",
          "text": [
            "Using CUDA\n"
          ]
        }
      ],
      "source": [
        "from __future__ import print_function, division\n",
        "\n",
        "import torch\n",
        "import torch.nn as nn\n",
        "import torch.optim as optim\n",
        "from torch.optim import lr_scheduler\n",
        "from torch.autograd import Variable\n",
        "import numpy as np\n",
        "import torchvision\n",
        "from torchvision import datasets, models, transforms\n",
        "import matplotlib.pyplot as plt\n",
        "import time\n",
        "import os\n",
        "import copy\n",
        "import cleverhans\n",
        "#import cleverhans.attacks.ElasticNetMethod\n",
        "#from cleverhans.future.torch.attacks.fast_gradient_method import fast_gradient_method\n",
        "#from cleverhans.future.torch.attacks.sparse_l1_descent import sparse_l1_descent\n",
        "\n",
        "plt.ion()  \n",
        "\n",
        "use_gpu = torch.cuda.is_available()\n",
        "if use_gpu:\n",
        "    print(\"Using CUDA\")"
      ]
    },
    {
      "cell_type": "code",
      "source": [
        "INF = float(\"inf\")"
      ],
      "metadata": {
        "id": "4bbtpfMFd3sT"
      },
      "execution_count": null,
      "outputs": []
    },
    {
      "cell_type": "code",
      "source": [
        "def elastic_net(\n",
        "    model_fn,\n",
        "    x,\n",
        "    n_classes,\n",
        "    y=None,\n",
        "    targeted=False,\n",
        "    lr=5e-3,\n",
        "    confidence=0,\n",
        "    clip_min=0,\n",
        "    clip_max=1,\n",
        "    initial_const=1e-2,\n",
        "    binary_search_steps=5,\n",
        "    max_iterations=10,\n",
        "):\n",
        "\n",
        "    def compare(pred, label, is_logits=False):\n",
        "        # Convert logits to predicted class if necessary\n",
        "        if is_logits:\n",
        "            pred_copy = pred.clone().detach()\n",
        "            pred_copy[label] += -confidence if targeted else confidence\n",
        "            pred = torch.argmax(pred_copy)\n",
        "\n",
        "        return pred == label if targeted else pred != label\n",
        "\n",
        "    if y is None:\n",
        "        # Using model predictions as ground truth to avoid label leaking\n",
        "        pred = model_fn(x)\n",
        "        y = torch.argmax(pred, 1)\n",
        "\n",
        "    # Initialize some values needed for binary search on const\n",
        "    lower_bound = [0.0] * len(x)\n",
        "    upper_bound = [1e10] * len(x)\n",
        "    const = x.new_ones(len(x), 1) * initial_const\n",
        "\n",
        "    o_bestl2 = [INF] * len(x)\n",
        "    o_bestscore = [-1.0] * len(x)\n",
        "    x = torch.clamp(x, clip_min, clip_max)\n",
        "    ox = x.clone().detach()  # save the original x\n",
        "    o_bestattack = x.clone().detach()\n",
        "\n",
        "    # Map images into the tanh-space\n",
        "    x = (x - clip_min) / (clip_max - clip_min)\n",
        "    x = torch.clamp(x, 0, 1)\n",
        "    x = x * 2 - 1\n",
        "    x = torch.arctanh(x * 0.999999)\n",
        "\n",
        "    # Prepare some variables\n",
        "    modifier = torch.zeros_like(x, requires_grad=True)\n",
        "    y_onehot = torch.nn.functional.one_hot(y, n_classes).to(torch.float)\n",
        "\n",
        "    # Define loss functions and optimizer\n",
        "    f_fn = lambda real, other, targeted: torch.max(\n",
        "        ((other - real) if targeted else (real - other)) + confidence,\n",
        "        torch.tensor(0.0).to(real.device),\n",
        "    )\n",
        "    l2dist_fn = lambda x, y: torch.pow(x - y, 2).sum(list(range(len(x.size())))[1:])\n",
        "    optimizer = torch.optim.Adam([modifier], lr=lr)\n",
        "\n",
        "    # Outer loop performing binary search on const\n",
        "    for outer_step in range(binary_search_steps):\n",
        "        # Initialize some values needed for the inner loop\n",
        "        bestl2 = [INF] * len(x)\n",
        "        bestscore = [-1.0] * len(x)\n",
        "\n",
        "        # Inner loop performing attack iterations\n",
        "        for i in range(max_iterations):\n",
        "            # One attack step\n",
        "            new_x = (torch.tanh(modifier + x) + 1) / 2\n",
        "            new_x = new_x * (clip_max - clip_min) + clip_min\n",
        "            logits = model_fn(new_x)\n",
        "\n",
        "            real = torch.sum(y_onehot * logits, 1)\n",
        "            other, _ = torch.max((1 - y_onehot) * logits - y_onehot * 1e4, 1)\n",
        "\n",
        "            optimizer.zero_grad()\n",
        "            f = f_fn(real, other, targeted)\n",
        "            l2 = l2dist_fn(new_x, ox)\n",
        "            loss = (const * f + l2).sum()\n",
        "            loss.backward()\n",
        "            optimizer.step()\n",
        "\n",
        "            # Update best results\n",
        "            for n, (l2_n, logits_n, new_x_n) in enumerate(zip(l2, logits, new_x)):\n",
        "                y_n = y[n]\n",
        "                succeeded = compare(logits_n, y_n, is_logits=True)\n",
        "                if l2_n < o_bestl2[n] and succeeded:\n",
        "                    pred_n = torch.argmax(logits_n)\n",
        "                    o_bestl2[n] = l2_n\n",
        "                    o_bestscore[n] = pred_n\n",
        "                    o_bestattack[n] = new_x_n\n",
        "                    # l2_n < o_bestl2[n] implies l2_n < bestl2[n] so we modify inner loop variables too\n",
        "                    bestl2[n] = l2_n\n",
        "                    bestscore[n] = pred_n\n",
        "                elif l2_n < bestl2[n] and succeeded:\n",
        "                    bestl2[n] = l2_n\n",
        "                    bestscore[n] = torch.argmax(logits_n)\n",
        "\n",
        "        # Binary search step\n",
        "        for n in range(len(x)):\n",
        "            y_n = y[n]\n",
        "\n",
        "            if compare(bestscore[n], y_n) and bestscore[n] != -1:\n",
        "                # Success, divide const by two\n",
        "                upper_bound[n] = min(upper_bound[n], const[n])\n",
        "                if upper_bound[n] < 1e9:\n",
        "                    const[n] = (lower_bound[n] + upper_bound[n]) / 2\n",
        "            else:\n",
        "                # Failure, either multiply by 10 if no solution found yet\n",
        "                # or do binary search with the known upper bound\n",
        "                lower_bound[n] = max(lower_bound[n], const[n])\n",
        "                if upper_bound[n] < 1e9:\n",
        "                    const[n] = (lower_bound[n] + upper_bound[n]) / 2\n",
        "                else:\n",
        "                    const[n] *= 10\n",
        "\n",
        "    return o_bestattack.detach()"
      ],
      "metadata": {
        "id": "8pj1a1tTd4OH"
      },
      "execution_count": null,
      "outputs": []
    },
    {
      "cell_type": "code",
      "execution_count": null,
      "metadata": {
        "colab": {
          "base_uri": "https://localhost:8080/"
        },
        "id": "vYdIF2Zi7msc",
        "outputId": "b25ecbec-e2a4-41bd-851f-fd031fbcceb4"
      },
      "outputs": [
        {
          "output_type": "stream",
          "name": "stdout",
          "text": [
            "Mounted at /content/drive\n"
          ]
        }
      ],
      "source": [
        "from google.colab import drive\n",
        "drive.mount('/content/drive')"
      ]
    },
    {
      "cell_type": "code",
      "execution_count": null,
      "metadata": {
        "colab": {
          "base_uri": "https://localhost:8080/"
        },
        "id": "9GtPAkn-716S",
        "outputId": "36d53525-0102-426a-f827-ec74a2d9be0e"
      },
      "outputs": [
        {
          "output_type": "stream",
          "name": "stdout",
          "text": [
            "['TRAIN', 'TEST', 'TEST2', 'Test_temp', 'Train_temp', 'InceptionResnetV1_TensorFlow_model', 'VALIDATION', 'InceptonResnetV1_Pytorch', 'model.txt', 'TRAIN2', 'TEST3']\n"
          ]
        }
      ],
      "source": [
        "path='/content/drive/MyDrive/RETINAL DATASET'\n",
        "dir_list = os.listdir(path)\n",
        "print(dir_list)"
      ]
    },
    {
      "cell_type": "code",
      "execution_count": null,
      "metadata": {
        "colab": {
          "base_uri": "https://localhost:8080/"
        },
        "id": "EIIUDzAiI-1F",
        "outputId": "b951793f-c247-49e8-8be5-06873806afcb"
      },
      "outputs": [
        {
          "output_type": "stream",
          "name": "stdout",
          "text": [
            "Base directory -->  ['TRAIN', 'TEST', 'TEST2', 'Test_temp', 'Train_temp', 'InceptionResnetV1_TensorFlow_model', 'VALIDATION', 'InceptonResnetV1_Pytorch', 'model.txt', 'TRAIN2', 'TEST3']\n"
          ]
        }
      ],
      "source": [
        "base_dir = os.path.join(\"/content/drive/MyDrive/RETINAL DATASET/\")\n",
        "print('Base directory --> ', os.listdir(base_dir))"
      ]
    },
    {
      "cell_type": "code",
      "execution_count": null,
      "metadata": {
        "colab": {
          "base_uri": "https://localhost:8080/"
        },
        "id": "SB7lwQdN79JC",
        "outputId": "7dbe6464-a5c9-4d81-81e8-970525fe1c3a"
      },
      "outputs": [
        {
          "output_type": "stream",
          "name": "stdout",
          "text": [
            "Train Directory -->  ['CNV', 'NORMAL', 'train_images.csv', 'train_images.gsheet']\n",
            "Test Directory -->  ['NORMAL', 'CNV']\n",
            "Test2 Directory -->  ['CNV_TEST_2', 'NORMAL_TEST_2']\n"
          ]
        }
      ],
      "source": [
        "train_dir = os.path.join(base_dir + \"TRAIN/\")\n",
        "print(\"Train Directory --> \", os.listdir(train_dir))\n",
        "\n",
        "validation_dir = os.path.join(base_dir + \"VALIDATION/\")\n",
        "print(\"Test Directory --> \", os.listdir(validation_dir))\n",
        "\n",
        "test_dir = os.path.join(base_dir + \"TEST2/\")\n",
        "print(\"Test2 Directory --> \", os.listdir(test_dir))"
      ]
    },
    {
      "cell_type": "code",
      "execution_count": null,
      "metadata": {
        "colab": {
          "base_uri": "https://localhost:8080/"
        },
        "id": "NmVYoB7f8SWI",
        "outputId": "48b9fafb-1d1d-4aab-eaa3-ae2bf7ceb333"
      },
      "outputs": [
        {
          "output_type": "stream",
          "name": "stdout",
          "text": [
            "Loaded 15000 images under TRAIN\n",
            "Loaded 1000 images under VALIDATION\n",
            "Loaded 4000 images under TEST2\n",
            "Classes: \n",
            "['CNV', 'NORMAL']\n"
          ]
        }
      ],
      "source": [
        "data_dir = base_dir\n",
        "TRAIN = 'TRAIN'\n",
        "VAL = 'VALIDATION'\n",
        "TEST = 'TEST2'\n",
        "\n",
        "# The pretrained model takes 224x224 images as input, so we resize all of them\n",
        "data_transforms = {\n",
        "    TRAIN: transforms.Compose([\n",
        "        # Data augmentation is a good practice for the train set\n",
        "        # Here, we randomly crop the image to 224x224 and\n",
        "        # randomly flip it horizontally. \n",
        "        transforms.RandomResizedCrop(224),\n",
        "        transforms.RandomHorizontalFlip(),\n",
        "        transforms.ToTensor(),\n",
        "    ]),\n",
        "    VAL: transforms.Compose([\n",
        "        transforms.Resize(256),\n",
        "        transforms.CenterCrop(224),\n",
        "        transforms.ToTensor(),\n",
        "    ]),\n",
        "    TEST: transforms.Compose([\n",
        "        transforms.Resize(256),\n",
        "        transforms.CenterCrop(224),\n",
        "        transforms.ToTensor(),\n",
        "    ])\n",
        "}\n",
        "\n",
        "image_datasets = {\n",
        "    x: datasets.ImageFolder(\n",
        "        os.path.join(data_dir, x), \n",
        "        transform=data_transforms[x]\n",
        "    )\n",
        "    for x in [TRAIN, VAL, TEST]\n",
        "}\n",
        "\n",
        "dataloaders = {\n",
        "    x: torch.utils.data.DataLoader(\n",
        "        image_datasets[x], batch_size=8,\n",
        "        shuffle=True, num_workers=2\n",
        "    )\n",
        "    for x in [TRAIN, VAL, TEST]\n",
        "}\n",
        "\n",
        "dataset_sizes = {x: len(image_datasets[x]) for x in [TRAIN, VAL, TEST]}\n",
        "\n",
        "for x in [TRAIN, VAL, TEST]:\n",
        "    print(\"Loaded {} images under {}\".format(dataset_sizes[x], x))\n",
        "    \n",
        "print(\"Classes: \")\n",
        "class_names = image_datasets[TRAIN].classes\n",
        "print(image_datasets[TRAIN].classes)"
      ]
    },
    {
      "cell_type": "code",
      "execution_count": null,
      "metadata": {
        "colab": {
          "base_uri": "https://localhost:8080/",
          "height": 49,
          "referenced_widgets": [
            "6e1e67b4344348628d597dec4830d37c",
            "c62f7886fff44f94948d928b9491deaa",
            "10c60a8377354b42855c22c68722f15f",
            "a919a26a3ba84c9aae96df0a9452b065",
            "492370ebb19843fba3cca712ce337578",
            "708e6b9e3421445cb9912555edadc979",
            "1ab17ae3d7d54b7b9b0e0bc921b74ae7",
            "9a30ee69bc994f07b5042282e8dfaed3",
            "e82ad807ba0e46f1a041a726dee59221",
            "f12ce02b483f4f3fa4464a7155ce88c3",
            "676f726fbad14d12afe724adc66894be"
          ]
        },
        "id": "qvVnKNxT9yj-",
        "outputId": "fc9a9199-34c5-4ad2-9581-42de7b92f967"
      },
      "outputs": [
        {
          "output_type": "display_data",
          "data": {
            "text/plain": [
              "  0%|          | 0.00/107M [00:00<?, ?B/s]"
            ],
            "application/vnd.jupyter.widget-view+json": {
              "version_major": 2,
              "version_minor": 0,
              "model_id": "6e1e67b4344348628d597dec4830d37c"
            }
          },
          "metadata": {}
        }
      ],
      "source": [
        "from facenet_pytorch import InceptionResnetV1\n",
        "model = InceptionResnetV1(pretrained='vggface2',classify=True,num_classes=2).eval()\n",
        "model=model.cuda()"
      ]
    },
    {
      "cell_type": "code",
      "execution_count": null,
      "metadata": {
        "id": "OiZ5nSpJ0m3d"
      },
      "outputs": [],
      "source": [
        "#UNFREEZES TRAINING FOR THE FIRST 9 LAYERS OF THE MODEL, FREEZES TRINING FOR THE REST\n",
        "for param in model.parameters():\n",
        "          param.requires_grad = True\n",
        "#print(newmodel.children)\n",
        "ct = 0\n",
        "for child in model.children():\n",
        "  ct += 1\n",
        "  if ct < 9:\n",
        "     for param in child.parameters():\n",
        "          param.requires_grad = False"
      ]
    },
    {
      "cell_type": "code",
      "execution_count": null,
      "metadata": {
        "id": "fMVgB22r7Dk1"
      },
      "outputs": [],
      "source": [
        "if use_gpu:\n",
        "    model.cuda() #.cuda() will move everything to the GPU side\n",
        "    \n",
        "criterion = nn.CrossEntropyLoss()\n",
        "\n",
        "optimizer_ft = optim.SGD(model.parameters(), lr=0.1, momentum=0.9)\n",
        "#exp_lr_scheduler = lr_scheduler.StepLR(optimizer_ft, step_size=7, gamma=0.1)"
      ]
    },
    {
      "cell_type": "code",
      "execution_count": null,
      "metadata": {
        "id": "_1wG8QnJCMXn"
      },
      "outputs": [],
      "source": [
        "def advTrain1(torch_model, train_loader, test_loader,\n",
        "        nb_epochs=2, batch_size=8, train_end=-1, test_end=-1, learning_rate=0.0001, optimizer=None):\n",
        "\n",
        "    train_loss = []\n",
        "    total = 0\n",
        "    correct = 0\n",
        "    step = 0\n",
        "    train_batches = len(train_loader)\n",
        "    test_batches = len(test_loader)\n",
        "    for epoch in range(nb_epochs):\n",
        "        print(\"Epoch {}/{}\".format(epoch, nb_epochs))\n",
        "        print('-' * 10)\n",
        "        \n",
        "        loss_train = 0\n",
        "        acc_train = 0\n",
        "        loss_train_adv = 0\n",
        "        acc_train_adv = 0\n",
        "        \n",
        "        loss_test = 0\n",
        "        acc_test = 0\n",
        "        loss_test_adv = 0\n",
        "        acc_test_adv = 0\n",
        "\n",
        "        model.train(True)\n",
        "        \n",
        "        for i, data in enumerate(dataloaders[TRAIN]):\n",
        "            if i % 100 == 0:\n",
        "                print(\"\\rTraining batch {}/{}\".format(i, train_batches / 2), end='', flush=True)\n",
        "                \n",
        "            # Use half training dataset\n",
        "            if i >= train_batches / 2:\n",
        "                break\n",
        "                \n",
        "            inputs, labels = data\n",
        "            inputs, labels = Variable(inputs.cuda()), Variable(labels.cuda())\n",
        "            optimizer.zero_grad()\n",
        "            \n",
        "            outputs = model(inputs)\n",
        "            \n",
        "            _, preds = torch.max(outputs.data, 1)\n",
        "            loss = criterion(outputs, labels)\n",
        "            \n",
        "            loss.backward()\n",
        "            optimizer.step()\n",
        "            \n",
        "            loss_train += loss.data\n",
        "            acc_train += torch.sum(preds == labels.data)\n",
        "            torch.cuda.empty_cache()\n",
        "            \n",
        "            ####\n",
        "\n",
        "\n",
        "            #inputs = fast_gradient_method(torch_model, inputs, eps=0.3, norm=np.inf, clip_min=0., clip_max=1.)\n",
        "            inputs, labels = data\n",
        "            inputs, labels = Variable(inputs.cuda()), Variable(labels.cuda())\n",
        "            inputs = elastic_net(torch_model,inputs,n_classes=2,y=labels,clip_min=0.,clip_max=1.)\n",
        "            '''\n",
        "            This attack has an\n",
        "            additional parameter that controls the sparsity of the update step. For\n",
        "            moderately sparse update steps, the attack vastly outperforms Projected\n",
        "            Steepest Descent and is competitive with other attacks targeted at the l1-norm\n",
        "            such as the ElasticNetMethod attack \n",
        "            '''\n",
        "            \n",
        "            optimizer.zero_grad()\n",
        "            \n",
        "            outputs = model(inputs)\n",
        "            \n",
        "            _, preds = torch.max(outputs.data, 1)\n",
        "            loss = criterion(outputs, labels)\n",
        "            \n",
        "            loss.backward()\n",
        "            optimizer.step()\n",
        "            \n",
        "            loss_train_adv += loss.data\n",
        "            acc_train_adv += torch.sum(preds == labels.data)\n",
        "            torch.cuda.empty_cache()\n",
        "\n",
        "            #####\n",
        "            #####\n",
        "        model.train(False)\n",
        "        model.eval()\n",
        "\n",
        "        for i, data in enumerate(dataloaders[TEST]):\n",
        "              if i % 100 == 0:\n",
        "                  print(\"\\rTesting batch {}/{}\".format(i, test_batches / 2), end='', flush=True)\n",
        "                \n",
        "              # Use half training dataset\n",
        "              if i >= test_batches / 2:\n",
        "                  break\n",
        "                \n",
        "              inputs, labels = data\n",
        "              inputs, labels = Variable(inputs.cuda()), Variable(labels.cuda())\n",
        "              optimizer.zero_grad()\n",
        "            \n",
        "              outputs = model(inputs)\n",
        "            \n",
        "              _, preds = torch.max(outputs.data, 1)\n",
        "              loss = criterion(outputs, labels)\n",
        "            \n",
        "              loss.backward()\n",
        "              optimizer.step()\n",
        "            \n",
        "              loss_test += loss.data\n",
        "              acc_test += torch.sum(preds == labels.data)\n",
        "              torch.cuda.empty_cache()\n",
        "            \n",
        "            ####\n",
        "\n",
        "              #inputs = fast_gradient_method(torch_model, inputs, eps=0.3, norm=np.inf, clip_min=0., clip_max=1.)\n",
        "              inputs, labels = data\n",
        "              inputs, labels = Variable(inputs.cuda()), Variable(labels.cuda())\n",
        "              inputs = elastic_net(torch_model,inputs,n_classes=2,y=labels,clip_min=0.,clip_max=1.)\n",
        "              optimizer.zero_grad()\n",
        "            \n",
        "              outputs = model(inputs)\n",
        "            \n",
        "              _, preds = torch.max(outputs.data, 1)\n",
        "              loss = criterion(outputs, labels)\n",
        "            \n",
        "              loss.backward()\n",
        "              optimizer.step()\n",
        "            \n",
        "              loss_test_adv += loss.data\n",
        "              acc_test_adv += torch.sum(preds == labels.data)\n",
        "              torch.cuda.empty_cache()\n",
        "\n",
        "            #####\n",
        "            #####\n",
        "            \n",
        "            \n",
        "        avg_acc_train = acc_train * 2 / dataset_sizes[TRAIN]\n",
        "        avg_acc_train_adv = acc_train_adv * 2 / dataset_sizes[TRAIN]\n",
        "        print(\"\\nEpoch {} result: \".format(epoch))\n",
        "        print()\n",
        "        print(\"Clean Training acc : {:.4f}\".format(avg_acc_train))\n",
        "        print()\n",
        "        print(\"Adversarial Training acc : {:.4f}\".format(avg_acc_train_adv))\n",
        "        print()\n",
        "\n",
        "        avg_acc_test = acc_test * 2 / dataset_sizes[TEST]\n",
        "        avg_acc_test_adv = acc_test_adv * 2 / dataset_sizes[TEST]\n",
        "        print(\"\\nEpoch {} result: \".format(epoch))\n",
        "        print()\n",
        "        print(\"Clean Testing acc : {:.4f}\".format(avg_acc_test))\n",
        "        print()\n",
        "        print(\"Adversarial Testing acc : {:.4f}\".format(avg_acc_test_adv))\n",
        "        print('-' * 10)"
      ]
    },
    {
      "cell_type": "code",
      "execution_count": null,
      "metadata": {
        "colab": {
          "base_uri": "https://localhost:8080/"
        },
        "id": "SaOuLE2ElEo9",
        "outputId": "1f1267c3-d5f6-4dc2-c4cf-d0bdf35359bd"
      },
      "outputs": [
        {
          "output_type": "stream",
          "name": "stdout",
          "text": [
            "Epoch 0/2\n",
            "----------\n",
            "Testing batch 200/250.0\n",
            "Epoch 0 result: \n",
            "\n",
            "Clean Training acc : 0.5065\n",
            "\n",
            "Adversarial Training acc : 0.5139\n",
            "\n",
            "\n",
            "Epoch 0 result: \n",
            "\n",
            "Clean Testing acc : 0.4920\n",
            "\n",
            "Adversarial Testing acc : 0.5020\n",
            "----------\n",
            "Epoch 1/2\n",
            "----------\n",
            "Training batch 700/937.5"
          ]
        }
      ],
      "source": [
        "advTrain1(model, dataloaders[TRAIN], dataloaders[TEST],\n",
        "        nb_epochs=2, batch_size=8, train_end=-1, test_end=-1, learning_rate=0.0001, optimizer=optimizer_ft)"
      ]
    }
  ],
  "metadata": {
    "accelerator": "GPU",
    "colab": {
      "provenance": [],
      "include_colab_link": true
    },
    "gpuClass": "standard",
    "kernelspec": {
      "display_name": "Python 3",
      "name": "python3"
    },
    "language_info": {
      "name": "python"
    },
    "widgets": {
      "application/vnd.jupyter.widget-state+json": {
        "6e1e67b4344348628d597dec4830d37c": {
          "model_module": "@jupyter-widgets/controls",
          "model_name": "HBoxModel",
          "model_module_version": "1.5.0",
          "state": {
            "_dom_classes": [],
            "_model_module": "@jupyter-widgets/controls",
            "_model_module_version": "1.5.0",
            "_model_name": "HBoxModel",
            "_view_count": null,
            "_view_module": "@jupyter-widgets/controls",
            "_view_module_version": "1.5.0",
            "_view_name": "HBoxView",
            "box_style": "",
            "children": [
              "IPY_MODEL_c62f7886fff44f94948d928b9491deaa",
              "IPY_MODEL_10c60a8377354b42855c22c68722f15f",
              "IPY_MODEL_a919a26a3ba84c9aae96df0a9452b065"
            ],
            "layout": "IPY_MODEL_492370ebb19843fba3cca712ce337578"
          }
        },
        "c62f7886fff44f94948d928b9491deaa": {
          "model_module": "@jupyter-widgets/controls",
          "model_name": "HTMLModel",
          "model_module_version": "1.5.0",
          "state": {
            "_dom_classes": [],
            "_model_module": "@jupyter-widgets/controls",
            "_model_module_version": "1.5.0",
            "_model_name": "HTMLModel",
            "_view_count": null,
            "_view_module": "@jupyter-widgets/controls",
            "_view_module_version": "1.5.0",
            "_view_name": "HTMLView",
            "description": "",
            "description_tooltip": null,
            "layout": "IPY_MODEL_708e6b9e3421445cb9912555edadc979",
            "placeholder": "​",
            "style": "IPY_MODEL_1ab17ae3d7d54b7b9b0e0bc921b74ae7",
            "value": "100%"
          }
        },
        "10c60a8377354b42855c22c68722f15f": {
          "model_module": "@jupyter-widgets/controls",
          "model_name": "FloatProgressModel",
          "model_module_version": "1.5.0",
          "state": {
            "_dom_classes": [],
            "_model_module": "@jupyter-widgets/controls",
            "_model_module_version": "1.5.0",
            "_model_name": "FloatProgressModel",
            "_view_count": null,
            "_view_module": "@jupyter-widgets/controls",
            "_view_module_version": "1.5.0",
            "_view_name": "ProgressView",
            "bar_style": "success",
            "description": "",
            "description_tooltip": null,
            "layout": "IPY_MODEL_9a30ee69bc994f07b5042282e8dfaed3",
            "max": 111898327,
            "min": 0,
            "orientation": "horizontal",
            "style": "IPY_MODEL_e82ad807ba0e46f1a041a726dee59221",
            "value": 111898327
          }
        },
        "a919a26a3ba84c9aae96df0a9452b065": {
          "model_module": "@jupyter-widgets/controls",
          "model_name": "HTMLModel",
          "model_module_version": "1.5.0",
          "state": {
            "_dom_classes": [],
            "_model_module": "@jupyter-widgets/controls",
            "_model_module_version": "1.5.0",
            "_model_name": "HTMLModel",
            "_view_count": null,
            "_view_module": "@jupyter-widgets/controls",
            "_view_module_version": "1.5.0",
            "_view_name": "HTMLView",
            "description": "",
            "description_tooltip": null,
            "layout": "IPY_MODEL_f12ce02b483f4f3fa4464a7155ce88c3",
            "placeholder": "​",
            "style": "IPY_MODEL_676f726fbad14d12afe724adc66894be",
            "value": " 107M/107M [00:00&lt;00:00, 246MB/s]"
          }
        },
        "492370ebb19843fba3cca712ce337578": {
          "model_module": "@jupyter-widgets/base",
          "model_name": "LayoutModel",
          "model_module_version": "1.2.0",
          "state": {
            "_model_module": "@jupyter-widgets/base",
            "_model_module_version": "1.2.0",
            "_model_name": "LayoutModel",
            "_view_count": null,
            "_view_module": "@jupyter-widgets/base",
            "_view_module_version": "1.2.0",
            "_view_name": "LayoutView",
            "align_content": null,
            "align_items": null,
            "align_self": null,
            "border": null,
            "bottom": null,
            "display": null,
            "flex": null,
            "flex_flow": null,
            "grid_area": null,
            "grid_auto_columns": null,
            "grid_auto_flow": null,
            "grid_auto_rows": null,
            "grid_column": null,
            "grid_gap": null,
            "grid_row": null,
            "grid_template_areas": null,
            "grid_template_columns": null,
            "grid_template_rows": null,
            "height": null,
            "justify_content": null,
            "justify_items": null,
            "left": null,
            "margin": null,
            "max_height": null,
            "max_width": null,
            "min_height": null,
            "min_width": null,
            "object_fit": null,
            "object_position": null,
            "order": null,
            "overflow": null,
            "overflow_x": null,
            "overflow_y": null,
            "padding": null,
            "right": null,
            "top": null,
            "visibility": null,
            "width": null
          }
        },
        "708e6b9e3421445cb9912555edadc979": {
          "model_module": "@jupyter-widgets/base",
          "model_name": "LayoutModel",
          "model_module_version": "1.2.0",
          "state": {
            "_model_module": "@jupyter-widgets/base",
            "_model_module_version": "1.2.0",
            "_model_name": "LayoutModel",
            "_view_count": null,
            "_view_module": "@jupyter-widgets/base",
            "_view_module_version": "1.2.0",
            "_view_name": "LayoutView",
            "align_content": null,
            "align_items": null,
            "align_self": null,
            "border": null,
            "bottom": null,
            "display": null,
            "flex": null,
            "flex_flow": null,
            "grid_area": null,
            "grid_auto_columns": null,
            "grid_auto_flow": null,
            "grid_auto_rows": null,
            "grid_column": null,
            "grid_gap": null,
            "grid_row": null,
            "grid_template_areas": null,
            "grid_template_columns": null,
            "grid_template_rows": null,
            "height": null,
            "justify_content": null,
            "justify_items": null,
            "left": null,
            "margin": null,
            "max_height": null,
            "max_width": null,
            "min_height": null,
            "min_width": null,
            "object_fit": null,
            "object_position": null,
            "order": null,
            "overflow": null,
            "overflow_x": null,
            "overflow_y": null,
            "padding": null,
            "right": null,
            "top": null,
            "visibility": null,
            "width": null
          }
        },
        "1ab17ae3d7d54b7b9b0e0bc921b74ae7": {
          "model_module": "@jupyter-widgets/controls",
          "model_name": "DescriptionStyleModel",
          "model_module_version": "1.5.0",
          "state": {
            "_model_module": "@jupyter-widgets/controls",
            "_model_module_version": "1.5.0",
            "_model_name": "DescriptionStyleModel",
            "_view_count": null,
            "_view_module": "@jupyter-widgets/base",
            "_view_module_version": "1.2.0",
            "_view_name": "StyleView",
            "description_width": ""
          }
        },
        "9a30ee69bc994f07b5042282e8dfaed3": {
          "model_module": "@jupyter-widgets/base",
          "model_name": "LayoutModel",
          "model_module_version": "1.2.0",
          "state": {
            "_model_module": "@jupyter-widgets/base",
            "_model_module_version": "1.2.0",
            "_model_name": "LayoutModel",
            "_view_count": null,
            "_view_module": "@jupyter-widgets/base",
            "_view_module_version": "1.2.0",
            "_view_name": "LayoutView",
            "align_content": null,
            "align_items": null,
            "align_self": null,
            "border": null,
            "bottom": null,
            "display": null,
            "flex": null,
            "flex_flow": null,
            "grid_area": null,
            "grid_auto_columns": null,
            "grid_auto_flow": null,
            "grid_auto_rows": null,
            "grid_column": null,
            "grid_gap": null,
            "grid_row": null,
            "grid_template_areas": null,
            "grid_template_columns": null,
            "grid_template_rows": null,
            "height": null,
            "justify_content": null,
            "justify_items": null,
            "left": null,
            "margin": null,
            "max_height": null,
            "max_width": null,
            "min_height": null,
            "min_width": null,
            "object_fit": null,
            "object_position": null,
            "order": null,
            "overflow": null,
            "overflow_x": null,
            "overflow_y": null,
            "padding": null,
            "right": null,
            "top": null,
            "visibility": null,
            "width": null
          }
        },
        "e82ad807ba0e46f1a041a726dee59221": {
          "model_module": "@jupyter-widgets/controls",
          "model_name": "ProgressStyleModel",
          "model_module_version": "1.5.0",
          "state": {
            "_model_module": "@jupyter-widgets/controls",
            "_model_module_version": "1.5.0",
            "_model_name": "ProgressStyleModel",
            "_view_count": null,
            "_view_module": "@jupyter-widgets/base",
            "_view_module_version": "1.2.0",
            "_view_name": "StyleView",
            "bar_color": null,
            "description_width": ""
          }
        },
        "f12ce02b483f4f3fa4464a7155ce88c3": {
          "model_module": "@jupyter-widgets/base",
          "model_name": "LayoutModel",
          "model_module_version": "1.2.0",
          "state": {
            "_model_module": "@jupyter-widgets/base",
            "_model_module_version": "1.2.0",
            "_model_name": "LayoutModel",
            "_view_count": null,
            "_view_module": "@jupyter-widgets/base",
            "_view_module_version": "1.2.0",
            "_view_name": "LayoutView",
            "align_content": null,
            "align_items": null,
            "align_self": null,
            "border": null,
            "bottom": null,
            "display": null,
            "flex": null,
            "flex_flow": null,
            "grid_area": null,
            "grid_auto_columns": null,
            "grid_auto_flow": null,
            "grid_auto_rows": null,
            "grid_column": null,
            "grid_gap": null,
            "grid_row": null,
            "grid_template_areas": null,
            "grid_template_columns": null,
            "grid_template_rows": null,
            "height": null,
            "justify_content": null,
            "justify_items": null,
            "left": null,
            "margin": null,
            "max_height": null,
            "max_width": null,
            "min_height": null,
            "min_width": null,
            "object_fit": null,
            "object_position": null,
            "order": null,
            "overflow": null,
            "overflow_x": null,
            "overflow_y": null,
            "padding": null,
            "right": null,
            "top": null,
            "visibility": null,
            "width": null
          }
        },
        "676f726fbad14d12afe724adc66894be": {
          "model_module": "@jupyter-widgets/controls",
          "model_name": "DescriptionStyleModel",
          "model_module_version": "1.5.0",
          "state": {
            "_model_module": "@jupyter-widgets/controls",
            "_model_module_version": "1.5.0",
            "_model_name": "DescriptionStyleModel",
            "_view_count": null,
            "_view_module": "@jupyter-widgets/base",
            "_view_module_version": "1.2.0",
            "_view_name": "StyleView",
            "description_width": ""
          }
        }
      }
    }
  },
  "nbformat": 4,
  "nbformat_minor": 0
}